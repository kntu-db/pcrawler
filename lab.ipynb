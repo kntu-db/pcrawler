{
 "cells": [
  {
   "cell_type": "code",
   "execution_count": 1,
   "id": "5c22fabe",
   "metadata": {
    "pycharm": {
     "name": "#%%\n"
    }
   },
   "outputs": [],
   "source": [
    "from requests import get"
   ]
  },
  {
   "cell_type": "code",
   "execution_count": 111,
   "id": "c1aa7ef6",
   "metadata": {
    "pycharm": {
     "name": "#%%\n"
    }
   },
   "outputs": [],
   "source": [
    "res=get(\"https://codeforces.com/problemset/page/2\")"
   ]
  },
  {
   "cell_type": "code",
   "execution_count": 8,
   "id": "e3dce01d",
   "metadata": {
    "pycharm": {
     "name": "#%%\n"
    }
   },
   "outputs": [],
   "source": [
    "from bs4 import BeautifulSoup"
   ]
  },
  {
   "cell_type": "code",
   "execution_count": 112,
   "id": "c19acc85",
   "metadata": {
    "pycharm": {
     "name": "#%%\n"
    }
   },
   "outputs": [],
   "source": [
    "soup = BeautifulSoup(res.content, 'html.parser')"
   ]
  },
  {
   "cell_type": "code",
   "execution_count": 113,
   "id": "ad79d4cd",
   "metadata": {
    "pycharm": {
     "name": "#%%\n"
    }
   },
   "outputs": [],
   "source": [
    "trs = soup.find_all('tr')"
   ]
  },
  {
   "cell_type": "code",
   "execution_count": 22,
   "id": "3f4d95ff",
   "metadata": {
    "pycharm": {
     "name": "#%%\n"
    }
   },
   "outputs": [
    {
     "data": {
      "text/plain": [
       "102"
      ]
     },
     "execution_count": 22,
     "metadata": {},
     "output_type": "execute_result"
    }
   ],
   "source": [
    "len(trs)"
   ]
  },
  {
   "cell_type": "code",
   "execution_count": 114,
   "id": "09efcc92",
   "metadata": {
    "pycharm": {
     "name": "#%%\n"
    }
   },
   "outputs": [],
   "source": [
    "all_rows = trs[1:-1]"
   ]
  },
  {
   "cell_type": "code",
   "execution_count": 135,
   "id": "94fef10a",
   "metadata": {
    "pycharm": {
     "name": "#%%\n"
    }
   },
   "outputs": [],
   "source": [
    "class Problem:\n",
    "    def __str__(self):\n",
    "        return f\"Problem{self.__dict__}\"\n",
    "    def __repr__(self):\n",
    "        return self.__str__()"
   ]
  },
  {
   "cell_type": "code",
   "execution_count": 115,
   "id": "30499c63",
   "metadata": {
    "pycharm": {
     "name": "#%%\n"
    }
   },
   "outputs": [
    {
     "data": {
      "text/plain": [
       "<td>\n",
       "<div style=\"float: left;\">\n",
       "<a href=\"/problemset/problem/1679/A\">\n",
       "AvtoBus                    </a>\n",
       "</div>\n",
       "<div style=\"float: right; font-size: 1.1rem; padding-top: 1px; text-align: right;\">\n",
       "<a class=\"notice\" href=\"/problemset?tags=brute+force\" style=\"text-decoration: none;\" title=\"Brute force\">brute force</a>,\n",
       "                        <a class=\"notice\" href=\"/problemset?tags=greedy\" style=\"text-decoration: none;\" title=\"Greedy algorithms\">greedy</a>,\n",
       "                        <a class=\"notice\" href=\"/problemset?tags=math\" style=\"text-decoration: none;\" title=\"Mathematics including integration, differential equations, etc\">math</a>,\n",
       "                        <a class=\"notice\" href=\"/problemset?tags=number+theory\" style=\"text-decoration: none;\" title=\"Number theory: Euler function, GCD, divisibility, etc\">number theory</a>\n",
       "</div>\n",
       "</td>"
      ]
     },
     "execution_count": 115,
     "metadata": {},
     "output_type": "execute_result"
    }
   ],
   "source": [
    "all_rows[0].find_all()[2]"
   ]
  },
  {
   "cell_type": "code",
   "execution_count": 127,
   "id": "37142554",
   "metadata": {
    "pycharm": {
     "name": "#%%\n"
    }
   },
   "outputs": [
    {
     "data": {
      "text/plain": [
       "14668"
      ]
     },
     "execution_count": 127,
     "metadata": {},
     "output_type": "execute_result"
    }
   ],
   "source": [
    "int(all_rows[0].find_all('td')[4].find('a').text.strip().lstrip('x'))"
   ]
  },
  {
   "cell_type": "code",
   "execution_count": null,
   "id": "e3b35032",
   "metadata": {
    "pycharm": {
     "name": "#%%\n"
    }
   },
   "outputs": [],
   "source": []
  },
  {
   "cell_type": "code",
   "execution_count": 153,
   "id": "878dfe8e",
   "metadata": {
    "pycharm": {
     "name": "#%%\n"
    }
   },
   "outputs": [],
   "source": [
    "def row_to_problem(elem):\n",
    "    tds = elem.find_all('td')\n",
    "    p = Problem()\n",
    "    contest_code = tds[0].find('a').text.strip()\n",
    "    p.contest_id = search('\\d+', contest_code).group()\n",
    "    p.code = search('[a-zA-Z]+', contest_code).group()\n",
    "    p.title = tds[1].find_all('div')[0].find('a').text.strip()\n",
    "    p.tags = [a.text.strip() for a in tds[1].find_all('div')[1].find_all('a')]\n",
    "    p.difficulty = tds[3].find('span').text.strip()\n",
    "    p.solved = int(tds[4].find('a').text.strip().lstrip('x'))\n",
    "    return p"
   ]
  },
  {
   "cell_type": "code",
   "execution_count": 154,
   "id": "8802a81b",
   "metadata": {
    "pycharm": {
     "name": "#%%\n"
    }
   },
   "outputs": [],
   "source": [
    "t = row_to_problem(all_rows[49])"
   ]
  },
  {
   "cell_type": "code",
   "execution_count": 155,
   "id": "b523f1dc",
   "metadata": {
    "pycharm": {
     "name": "#%%\n"
    }
   },
   "outputs": [
    {
     "data": {
      "text/plain": [
       "Problem{'contest_id': '1671', 'code': 'F', 'title': 'Permutation Counting', 'tags': ['brute force', 'combinatorics', 'dp', 'fft', 'math'], 'difficulty': '2700', 'solved': 193}"
      ]
     },
     "execution_count": 155,
     "metadata": {},
     "output_type": "execute_result"
    }
   ],
   "source": [
    "t"
   ]
  },
  {
   "cell_type": "code",
   "execution_count": 141,
   "id": "b0566d65",
   "metadata": {
    "pycharm": {
     "name": "#%%\n"
    }
   },
   "outputs": [],
   "source": [
    "l = '1671F'"
   ]
  },
  {
   "cell_type": "code",
   "execution_count": 146,
   "id": "5782fad2",
   "metadata": {
    "pycharm": {
     "name": "#%%\n"
    }
   },
   "outputs": [],
   "source": [
    "from re import search"
   ]
  },
  {
   "cell_type": "code",
   "execution_count": 156,
   "id": "2a1ff99b",
   "metadata": {
    "pycharm": {
     "name": "#%%\n"
    }
   },
   "outputs": [
    {
     "data": {
      "text/plain": [
       "'1671'"
      ]
     },
     "execution_count": 156,
     "metadata": {},
     "output_type": "execute_result"
    }
   ],
   "source": [
    "search('\\d+', l).group()"
   ]
  },
  {
   "cell_type": "code",
   "execution_count": 159,
   "id": "a18450f7",
   "metadata": {
    "pycharm": {
     "name": "#%%\n"
    }
   },
   "outputs": [
    {
     "data": {
      "text/plain": [
       "'{\"totalAccepted\": \"1.9M\", \"totalSubmission\": \"6M\", \"totalAcceptedRaw\": 1937037, \"totalSubmissionRaw\": 6016502, \"acRate\": \"32.2%\"}'"
      ]
     },
     "execution_count": 159,
     "metadata": {},
     "output_type": "execute_result"
    }
   ],
   "source": [
    "\"{\\\"totalAccepted\\\": \\\"1.9M\\\", \\\"totalSubmission\\\": \\\"6M\\\", \\\"totalAcceptedRaw\\\": 1937037, \\\"totalSubmissionRaw\\\": 6016502, \\\"acRate\\\": \\\"32.2%\\\"}\""
   ]
  },
  {
   "cell_type": "code",
   "execution_count": 165,
   "id": "b5a96f0e",
   "metadata": {
    "pycharm": {
     "name": "#%%\n"
    }
   },
   "outputs": [],
   "source": [
    "from json import loads"
   ]
  },
  {
   "cell_type": "code",
   "execution_count": 166,
   "id": "bc193c2a",
   "metadata": {
    "pycharm": {
     "name": "#%%\n"
    }
   },
   "outputs": [
    {
     "data": {
      "text/plain": [
       "{'totalAccepted': '1.9M',\n",
       " 'totalSubmission': '6M',\n",
       " 'totalAcceptedRaw': 1937037,\n",
       " 'totalSubmissionRaw': 6016502,\n",
       " 'acRate': '32.2%'}"
      ]
     },
     "execution_count": 166,
     "metadata": {},
     "output_type": "execute_result"
    }
   ],
   "source": [
    "loads(\"{\\\"totalAccepted\\\": \\\"1.9M\\\", \\\"totalSubmission\\\": \\\"6M\\\", \\\"totalAcceptedRaw\\\": 1937037, \\\"totalSubmissionRaw\\\": 6016502, \\\"acRate\\\": \\\"32.2%\\\"}\")"
   ]
  }
 ],
 "metadata": {
  "kernelspec": {
   "display_name": "Python 3 (ipykernel)",
   "language": "python",
   "name": "python3"
  },
  "language_info": {
   "codemirror_mode": {
    "name": "ipython",
    "version": 3
   },
   "file_extension": ".py",
   "mimetype": "text/x-python",
   "name": "python",
   "nbconvert_exporter": "python",
   "pygments_lexer": "ipython3",
   "version": "3.10.4"
  }
 },
 "nbformat": 4,
 "nbformat_minor": 5
}